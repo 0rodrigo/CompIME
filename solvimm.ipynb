{
  "nbformat": 4,
  "nbformat_minor": 0,
  "metadata": {
    "colab": {
      "name": "solvimm.ipynb",
      "provenance": [],
      "authorship_tag": "ABX9TyNf6iM7IqAXdUJkIGZHkGqo",
      "include_colab_link": true
    },
    "kernelspec": {
      "name": "python3",
      "display_name": "Python 3"
    },
    "language_info": {
      "name": "python"
    }
  },
  "cells": [
    {
      "cell_type": "markdown",
      "metadata": {
        "id": "view-in-github",
        "colab_type": "text"
      },
      "source": [
        "<a href=\"https://colab.research.google.com/github/0rodrigo/CompIME/blob/master/solvimm.ipynb\" target=\"_parent\"><img src=\"https://colab.research.google.com/assets/colab-badge.svg\" alt=\"Open In Colab\"/></a>"
      ]
    },
    {
      "cell_type": "markdown",
      "metadata": {
        "id": "OpTG7HVo6_6N"
      },
      "source": [
        "#Desafio Estágio em Dados - Solvimm\n",
        "\n",
        "## Foi utilizado o Google Colab\n",
        "https://colab.research.google.com/\n",
        "\n",
        "Antes de executar basta fazer o upload dos datasets movies.csv e customers_rating.csv"
      ]
    },
    {
      "cell_type": "code",
      "metadata": {
        "id": "JBily1PDsEJa"
      },
      "source": [
        "import pandas as pd"
      ],
      "execution_count": 113,
      "outputs": []
    },
    {
      "cell_type": "markdown",
      "metadata": {
        "id": "mxzYBA-rIEHh"
      },
      "source": [
        "##### Leitura do arquivo movies.csv"
      ]
    },
    {
      "cell_type": "code",
      "metadata": {
        "id": "-UbbklArsdgO"
      },
      "source": [
        "# Lendo o arquivo e colocando o header\n",
        "df_movies = pd.read_csv('../content/movies.csv', sep = ';',names=['Movie_Id','Movie_Name'], usecols=[0,1])\n",
        "\n",
        "# Tirando os parentêses\n",
        "df_movies[\"Movie_Name\"] = df_movies[\"Movie_Name\"].map(lambda x: str(x)[1:-1])\n",
        "\n",
        "# Separando o titulo e o ano de lançamento\n",
        "new = df_movies[\"Movie_Name\"].str.split(\",\", n = 1, expand = True)\n",
        "\n",
        "# Alterando o titulo e acrescentando a coluna do ano de lançamento\n",
        "df_movies[\"Movie_Name\"] = new[0]\n",
        "df_movies[\"Year_Released\"] = new[1]"
      ],
      "execution_count": 114,
      "outputs": []
    },
    {
      "cell_type": "markdown",
      "metadata": {
        "id": "1IpSjOYWJN3W"
      },
      "source": [
        "##### Leitura do arquivo customers_rating.csv"
      ]
    },
    {
      "cell_type": "code",
      "metadata": {
        "id": "ohjcnRjDyZYD"
      },
      "source": [
        "df_customers = pd.read_csv('../content/customers_rating.csv', sep = ';')"
      ],
      "execution_count": 115,
      "outputs": []
    },
    {
      "cell_type": "markdown",
      "metadata": {
        "id": "5fnNGgkiPHrG"
      },
      "source": [
        "##### Fazendo o merge dos dois dataframes"
      ]
    },
    {
      "cell_type": "code",
      "metadata": {
        "id": "a8LgE7Wd_bSl"
      },
      "source": [
        "df_merged = pd.merge(df_movies, df_customers, left_on='Movie_Id', right_on='Movie_Id')"
      ],
      "execution_count": 116,
      "outputs": []
    },
    {
      "cell_type": "markdown",
      "metadata": {
        "id": "aN3b-QpxP22U"
      },
      "source": [
        "##### 1.1 Quantos filmes estão disponíveis no dataset?"
      ]
    },
    {
      "cell_type": "code",
      "metadata": {
        "id": "xlzuHEELPo1g",
        "colab": {
          "base_uri": "https://localhost:8080/"
        },
        "outputId": "4e111759-6494-4a1f-a238-91afd269f36e"
      },
      "source": [
        "df_merged['Movie_Id'].nunique()"
      ],
      "execution_count": 117,
      "outputs": [
        {
          "output_type": "execute_result",
          "data": {
            "text/plain": [
              "4499"
            ]
          },
          "metadata": {},
          "execution_count": 117
        }
      ]
    },
    {
      "cell_type": "markdown",
      "metadata": {
        "id": "wJe52hLvRL8k"
      },
      "source": [
        "##### 1.2 Qual é o nome dos 5 filmes com melhor média de avaliação?"
      ]
    },
    {
      "cell_type": "code",
      "metadata": {
        "colab": {
          "base_uri": "https://localhost:8080/"
        },
        "id": "l5u7WsQfEnRS",
        "outputId": "0570a965-c9ce-458e-e279-2a149ab711ea"
      },
      "source": [
        "# Calculando a média de cada filme\n",
        "df_rating = df_merged.groupby(['Movie_Name'])['Rating'].mean()\n",
        "\n",
        "# Ordenando o pelo valor das médias\n",
        "df_rating = df_rating.sort_values(ascending=False)\n",
        "\n",
        "# Selecionando os 5 filmes mais bem avaliados\n",
        "df_rating.head(5)"
      ],
      "execution_count": 118,
      "outputs": [
        {
          "output_type": "execute_result",
          "data": {
            "text/plain": [
              "Movie_Name\n",
              "Lost: Season 1                                                                 4.670989\n",
              "Ghost in the Shell: Stand Alone Complex: 2nd Gig                               4.586364\n",
              "The Simpsons: Season 6                                                         4.581296\n",
              "Inu-Yasha                                                                      4.554434\n",
              "Lord of the Rings: The Return of the King: Extended Edition: Bonus Material    4.552000\n",
              "Name: Rating, dtype: float64"
            ]
          },
          "metadata": {},
          "execution_count": 118
        }
      ]
    },
    {
      "cell_type": "markdown",
      "metadata": {
        "id": "aDkv-grUQpfh"
      },
      "source": [
        "##### 1.3 Quais os 5 anos com menos lançamentos de filmes?"
      ]
    },
    {
      "cell_type": "code",
      "metadata": {
        "colab": {
          "base_uri": "https://localhost:8080/"
        },
        "id": "uvBQZabIFELK",
        "outputId": "91dcf940-d09b-4a79-80e8-4934bcd33dbf"
      },
      "source": [
        "# Contando o numero de filmes de cada ano\n",
        "Year=df_movies['Year_Released'].value_counts(ascending=True)\n",
        "Year.head(5)"
      ],
      "execution_count": 119,
      "outputs": [
        {
          "output_type": "execute_result",
          "data": {
            "text/plain": [
              " 1917    1\n",
              " 1926    1\n",
              " 1922    1\n",
              " 1915    1\n",
              " 1916    2\n",
              "Name: Year_Released, dtype: int64"
            ]
          },
          "metadata": {},
          "execution_count": 119
        }
      ]
    },
    {
      "cell_type": "markdown",
      "metadata": {
        "id": "MTBjXCOBQy51"
      },
      "source": [
        "##### 1.4 Quantos filmes que possuem avaliação maior ou igual a 4.7, considerando apenas os filmes avaliados na última data de avaliação do dataset?"
      ]
    },
    {
      "cell_type": "code",
      "metadata": {
        "colab": {
          "base_uri": "https://localhost:8080/"
        },
        "id": "HVoXT__aFfOk",
        "outputId": "dcea5aa8-62d6-4848-9cae-669c9c98e55f"
      },
      "source": [
        "# Ordenando pela data e escolhendo a ultima data do dataset:\n",
        "df_date = df_merged.sort_values(by='Date',ascending=False)\n",
        "df_date = df_date['Date']\n",
        "last_date = pd.merge(df_merged, df_date.head(1),left_on='Date', right_on='Date')\n",
        "\n",
        "# Calulando a média apenas para os filmes avaliados na última data e ordenando pela média:\n",
        "df_rating = last_date.groupby(['Movie_Id'], as_index=False)['Rating'].mean().sort_values(by='Rating', ascending=False)\n",
        "\n",
        "# Selecionando apenas os filmes que possuem media maior ou igual a 4,7:\n",
        "df_date_rating = df_rating.loc[df_rating['Rating']>=4.7]\n",
        "df_date_rating['Movie_Id'].nunique()"
      ],
      "execution_count": 120,
      "outputs": [
        {
          "output_type": "execute_result",
          "data": {
            "text/plain": [
              "195"
            ]
          },
          "metadata": {},
          "execution_count": 120
        }
      ]
    },
    {
      "cell_type": "markdown",
      "metadata": {
        "id": "4UtrLXamUBrd"
      },
      "source": [
        "##### 1.5 Dos filmes encontrados na questão anterior, quais são os 10 filmes com as piores notas e quais as notas?"
      ]
    },
    {
      "cell_type": "code",
      "metadata": {
        "colab": {
          "base_uri": "https://localhost:8080/",
          "height": 356
        },
        "id": "DSQGTZW_Fosr",
        "outputId": "ee333949-2deb-4867-8506-9e2203b119a2"
      },
      "source": [
        "# Realizando a combinação do Movie_Id dos filmes filtrados na questao anterior com o dataset que contem os nomes para caputar o nome dos filmes\n",
        "worst_movies = pd.merge(df_date_rating,df_movies, left_on='Movie_Id', right_on='Movie_Id').drop(columns=['Movie_Id','Year_Released'])\n",
        "\n",
        "# Ordenando em ordem decrescente os filmes disponíveis:\n",
        "worst_movies = worst_movies.sort_values(by='Rating', ascending=True)\n",
        "\n",
        "worst_movies.head(10)"
      ],
      "execution_count": 121,
      "outputs": [
        {
          "output_type": "execute_result",
          "data": {
            "text/html": [
              "<div>\n",
              "<style scoped>\n",
              "    .dataframe tbody tr th:only-of-type {\n",
              "        vertical-align: middle;\n",
              "    }\n",
              "\n",
              "    .dataframe tbody tr th {\n",
              "        vertical-align: top;\n",
              "    }\n",
              "\n",
              "    .dataframe thead th {\n",
              "        text-align: right;\n",
              "    }\n",
              "</style>\n",
              "<table border=\"1\" class=\"dataframe\">\n",
              "  <thead>\n",
              "    <tr style=\"text-align: right;\">\n",
              "      <th></th>\n",
              "      <th>Rating</th>\n",
              "      <th>Movie_Name</th>\n",
              "    </tr>\n",
              "  </thead>\n",
              "  <tbody>\n",
              "    <tr>\n",
              "      <th>194</th>\n",
              "      <td>4.714286</td>\n",
              "      <td>Spirited Away</td>\n",
              "    </tr>\n",
              "    <tr>\n",
              "      <th>187</th>\n",
              "      <td>4.750000</td>\n",
              "      <td>Pete's Dragon</td>\n",
              "    </tr>\n",
              "    <tr>\n",
              "      <th>188</th>\n",
              "      <td>4.750000</td>\n",
              "      <td>SpongeBob SquarePants: Season 3</td>\n",
              "    </tr>\n",
              "    <tr>\n",
              "      <th>189</th>\n",
              "      <td>4.750000</td>\n",
              "      <td>Gilmore Girls: Season 3</td>\n",
              "    </tr>\n",
              "    <tr>\n",
              "      <th>193</th>\n",
              "      <td>4.750000</td>\n",
              "      <td>Absolutely Fabulous: Series 2</td>\n",
              "    </tr>\n",
              "    <tr>\n",
              "      <th>191</th>\n",
              "      <td>4.750000</td>\n",
              "      <td>The Twilight Zone: Vol. 15</td>\n",
              "    </tr>\n",
              "    <tr>\n",
              "      <th>192</th>\n",
              "      <td>4.750000</td>\n",
              "      <td>An Evening With Kevin Smith</td>\n",
              "    </tr>\n",
              "    <tr>\n",
              "      <th>190</th>\n",
              "      <td>4.750000</td>\n",
              "      <td>The Twilight Zone: Vol. 41</td>\n",
              "    </tr>\n",
              "    <tr>\n",
              "      <th>186</th>\n",
              "      <td>4.800000</td>\n",
              "      <td>Curb Your Enthusiasm: Season 3</td>\n",
              "    </tr>\n",
              "    <tr>\n",
              "      <th>185</th>\n",
              "      <td>4.800000</td>\n",
              "      <td>In the Mood for Love</td>\n",
              "    </tr>\n",
              "  </tbody>\n",
              "</table>\n",
              "</div>"
            ],
            "text/plain": [
              "       Rating                       Movie_Name\n",
              "194  4.714286                    Spirited Away\n",
              "187  4.750000                    Pete's Dragon\n",
              "188  4.750000  SpongeBob SquarePants: Season 3\n",
              "189  4.750000          Gilmore Girls: Season 3\n",
              "193  4.750000    Absolutely Fabulous: Series 2\n",
              "191  4.750000       The Twilight Zone: Vol. 15\n",
              "192  4.750000      An Evening With Kevin Smith\n",
              "190  4.750000       The Twilight Zone: Vol. 41\n",
              "186  4.800000   Curb Your Enthusiasm: Season 3\n",
              "185  4.800000             In the Mood for Love"
            ]
          },
          "metadata": {},
          "execution_count": 121
        }
      ]
    },
    {
      "cell_type": "markdown",
      "metadata": {
        "id": "KIHJp2-zUMpW"
      },
      "source": [
        "##### 1.6 Quais os id's dos 5 customer que mais avaliaram filmes e quantas avaliações cada um fez?"
      ]
    },
    {
      "cell_type": "code",
      "metadata": {
        "colab": {
          "base_uri": "https://localhost:8080/"
        },
        "id": "pJ3QHV6cFwMm",
        "outputId": "314b557d-7b52-4b3e-c76a-e1126d16fa44"
      },
      "source": [
        "# Calculando a quantidade de avaliações feitas por cada Cust_Id\n",
        "customers = df_merged.groupby(by='Cust_Id')['Rating'].count()\n",
        "\n",
        "# Apresentando o top 5 dos customers que mais fizeram avaliações\n",
        "customers.sort_values(ascending=False).head(5)"
      ],
      "execution_count": 122,
      "outputs": [
        {
          "output_type": "execute_result",
          "data": {
            "text/plain": [
              "Cust_Id\n",
              "305344     4467\n",
              "387418     4422\n",
              "2439493    4195\n",
              "1664010    4019\n",
              "2118461    3769\n",
              "Name: Rating, dtype: int64"
            ]
          },
          "metadata": {},
          "execution_count": 122
        }
      ]
    }
  ]
}